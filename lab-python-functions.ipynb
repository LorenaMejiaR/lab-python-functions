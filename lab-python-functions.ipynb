{
 "cells": [
  {
   "cell_type": "markdown",
   "id": "25d7736c-ba17-4aff-b6bb-66eba20fbf4e",
   "metadata": {},
   "source": [
    "# Lab | Functions"
   ]
  },
  {
   "cell_type": "markdown",
   "id": "0c581062-8967-4d93-b06e-62833222f930",
   "metadata": {
    "tags": []
   },
   "source": [
    "## Exercise: Managing Customer Orders with Functions\n",
    "\n",
    "In the previous exercise, you improved the code for managing customer orders by using loops and flow control. Now, let's take it a step further and refactor the code by introducing functions.\n",
    "\n",
    "Follow the steps below to complete the exercise:\n",
    "\n",
    "1. Define a function named `initialize_inventory` that takes `products` as a parameter. Inside the function, implement the code for initializing the inventory dictionary using a loop and user input.\n",
    "\n",
    "2. Define a function named `get_customer_orders` that takes no parameters. Inside the function, implement the code for prompting the user to enter the product names using a loop. The function should return the `customer_orders` set.\n",
    "\n",
    "3. Define a function named `update_inventory` that takes `customer_orders` and `inventory` as parameters. Inside the function, implement the code for updating the inventory dictionary based on the customer orders.\n",
    "\n",
    "4. Define a function named `calculate_order_statistics` that takes `customer_orders` and `products` as parameters. Inside the function, implement the code for calculating the order statistics (total products ordered, and percentage of unique products ordered). The function should return these values.\n",
    "\n",
    "5. Define a function named `print_order_statistics` that takes `order_statistics` as a parameter. Inside the function, implement the code for printing the order statistics.\n",
    "\n",
    "6. Define a function named `print_updated_inventory` that takes `inventory` as a parameter. Inside the function, implement the code for printing the updated inventory.\n",
    "\n",
    "7. Call the functions in the appropriate sequence to execute the program and manage customer orders.\n",
    "\n",
    "Hints for functions:\n",
    "\n",
    "- Consider the input parameters required for each function and their return values.\n",
    "- Utilize function parameters and return values to transfer data between functions.\n",
    "- Test your functions individually to ensure they work correctly.\n",
    "\n",
    "\n"
   ]
  },
  {
   "cell_type": "code",
   "execution_count": 65,
   "id": "05a62e61-0e0c-4a5c-8712-a9d0230ba4e1",
   "metadata": {},
   "outputs": [],
   "source": [
    "#1. \n",
    "def initialize_inventory(products):\n",
    "    inventory={}\n",
    "    for product in products:\n",
    "        quantity = int(input(f\"Please enter the quantity of {product}: \"))\n",
    "        inventory[product] = quantity\n",
    "    return inventory"
   ]
  },
  {
   "cell_type": "code",
   "execution_count": 67,
   "id": "121534b7-f6a3-4daf-9256-c7df6e7a753f",
   "metadata": {},
   "outputs": [],
   "source": [
    "#2. \n",
    "def get_customer_orders(): \n",
    "    customer_orders=set()\n",
    "    while True:\n",
    "        product=input(\"Please enter the name of the product you want to order:\")\n",
    "        customer_orders.add(product)\n",
    "        another_product= input(\"Do you want to add another product to your order? (yes/no): \")\n",
    "        if another_product != \"yes\":\n",
    "            break \n",
    "    return customer_orders"
   ]
  },
  {
   "cell_type": "code",
   "execution_count": 69,
   "id": "1c16ba88-2562-42ab-935b-650d22f672e6",
   "metadata": {},
   "outputs": [],
   "source": [
    "#3. \n",
    "def update_inventory(customer_orders, inventory):\n",
    "    for order in customer_orders:\n",
    "        if order in inventory and inventory[order]>0:\n",
    "            inventory[order]-=1\n",
    "            print(f\"Processed order for {order}\")"
   ]
  },
  {
   "cell_type": "code",
   "execution_count": 71,
   "id": "f4378573-108c-42bb-ae01-753ccdb3dfaf",
   "metadata": {},
   "outputs": [],
   "source": [
    "#4. \n",
    "def calculate_order_statistics(customer_orders, products): \n",
    "    total_products_ordered=len(customer_orders)\n",
    "    unique_products_ordered=len(set(customer_orders))\n",
    "    percentage_unique=(unique_products_ordered/total_products_ordered*100) if total_products_ordered>0 else 0\n",
    "    return total_products_ordered, percentage_unique"
   ]
  },
  {
   "cell_type": "code",
   "execution_count": 73,
   "id": "4c26352b-dd00-46c2-979f-9cfe1f881589",
   "metadata": {},
   "outputs": [],
   "source": [
    "#5. \n",
    "def print_order_statistics(order_statistics):\n",
    "    total_products_ordered,percentage_unique=order_statistics\n",
    "    print(f\"Total products ordered: {total_products_ordered}\")\n",
    "    print(f\"Percentage of unique products ordered: {percentage_unique:.2f}%\")"
   ]
  },
  {
   "cell_type": "code",
   "execution_count": 75,
   "id": "d67e28fb-6d12-432e-8689-1831496d457e",
   "metadata": {},
   "outputs": [],
   "source": [
    "#6. \n",
    "def print_updated_inventory(inventory):\n",
    "    print(\"Updated inventory:\")\n",
    "    for product, quantity in inventory.items():\n",
    "        print(f\"{product}: {quantity}\")"
   ]
  },
  {
   "cell_type": "code",
   "execution_count": 77,
   "id": "2d8ec1b1-57eb-4be4-8f49-3311981b4384",
   "metadata": {},
   "outputs": [],
   "source": [
    "#7. \n",
    "products = [\"t-shirt\", \"mug\", \"hat\", \"book\", \"keychain\"]"
   ]
  },
  {
   "cell_type": "code",
   "execution_count": 79,
   "id": "eb15e97a-82a2-423f-a0cb-836d29aef935",
   "metadata": {},
   "outputs": [
    {
     "name": "stdin",
     "output_type": "stream",
     "text": [
      "Please enter the quantity of t-shirt:  10\n",
      "Please enter the quantity of mug:  10\n",
      "Please enter the quantity of hat:  10\n",
      "Please enter the quantity of book:  10\n",
      "Please enter the quantity of keychain:  10\n"
     ]
    }
   ],
   "source": [
    "inventory = initialize_inventory(products)"
   ]
  },
  {
   "cell_type": "code",
   "execution_count": 81,
   "id": "f3995ee2-cf83-4f44-b38a-25c0e3986cd5",
   "metadata": {},
   "outputs": [
    {
     "name": "stdin",
     "output_type": "stream",
     "text": [
      "Please enter the name of the product you want to order: mug\n",
      "Do you want to add another product to your order? (yes/no):  yes\n",
      "Please enter the name of the product you want to order: book\n",
      "Do you want to add another product to your order? (yes/no):  yes\n",
      "Please enter the name of the product you want to order: notebook\n",
      "Do you want to add another product to your order? (yes/no):  no\n"
     ]
    }
   ],
   "source": [
    "customer_orders = get_customer_orders()"
   ]
  },
  {
   "cell_type": "code",
   "execution_count": 83,
   "id": "7037ad7c-f9e0-4faa-830e-398cf10c28b3",
   "metadata": {},
   "outputs": [
    {
     "name": "stdout",
     "output_type": "stream",
     "text": [
      "Processed order for mug\n",
      "Processed order for book\n"
     ]
    }
   ],
   "source": [
    "update_inventory(customer_orders, inventory)"
   ]
  },
  {
   "cell_type": "code",
   "execution_count": 85,
   "id": "45607f09-f73a-468a-ae15-95932c87f2a9",
   "metadata": {},
   "outputs": [],
   "source": [
    "order_statistics = calculate_order_statistics(customer_orders, products)"
   ]
  },
  {
   "cell_type": "code",
   "execution_count": 87,
   "id": "ebd317f4-a58b-4324-bb2e-7129f04f24d6",
   "metadata": {},
   "outputs": [
    {
     "name": "stdout",
     "output_type": "stream",
     "text": [
      "Total products ordered: 3\n",
      "Percentage of unique products ordered: 100.00%\n"
     ]
    }
   ],
   "source": [
    "print_order_statistics(order_statistics)"
   ]
  },
  {
   "cell_type": "code",
   "execution_count": 89,
   "id": "667f2a9c-3acd-46c0-915f-bd0e01aa4c49",
   "metadata": {},
   "outputs": [
    {
     "name": "stdout",
     "output_type": "stream",
     "text": [
      "Updated inventory:\n",
      "t-shirt: 10\n",
      "mug: 9\n",
      "hat: 10\n",
      "book: 9\n",
      "keychain: 10\n"
     ]
    }
   ],
   "source": [
    "print_updated_inventory(inventory)"
   ]
  }
 ],
 "metadata": {
  "kernelspec": {
   "display_name": "Python 3 (ipykernel)",
   "language": "python",
   "name": "python3"
  },
  "language_info": {
   "codemirror_mode": {
    "name": "ipython",
    "version": 3
   },
   "file_extension": ".py",
   "mimetype": "text/x-python",
   "name": "python",
   "nbconvert_exporter": "python",
   "pygments_lexer": "ipython3",
   "version": "3.12.4"
  }
 },
 "nbformat": 4,
 "nbformat_minor": 5
}
